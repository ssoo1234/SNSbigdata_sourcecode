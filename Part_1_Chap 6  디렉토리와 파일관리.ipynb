{
 "cells": [
  {
   "cell_type": "code",
   "execution_count": 11,
   "metadata": {},
   "outputs": [
    {
     "name": "stdout",
     "output_type": "stream",
     "text": [
      "현재 디렉토리: /Users/hwangseho/Desktop/SNSbigdata_sourcecode\n",
      "이동 후 디렉토리: /Users/hwangseho/Desktop/SNSbigdata_sourcecode\n"
     ]
    }
   ],
   "source": [
    "#getcwd( ) 와 chdir()\n",
    "# /Users/hwangseho/Desktop/SNSbigdata_sourcecode\n",
    "\n",
    "import os\n",
    "\n",
    "print('현재 디렉토리:' , os.getcwd() )\n",
    "os.chdir(\"./\")\n",
    "print('이동 후 디렉토리:' , os.getcwd() )"
   ]
  },
  {
   "cell_type": "code",
   "execution_count": 10,
   "metadata": {},
   "outputs": [
    {
     "data": {
      "text/plain": [
       "['Part_2_Chap 13 검색 건수를 입력받아 요약 정보 추출후 저장하기_v2.ipynb',\n",
       " 'Part_2_Chap 14 특정 게시글의 상세 데이터 수집하기.ipynb',\n",
       " 'Part_2_Chap 15 여러건의 게시물의 상세 내용을 수집하여 다양한 형태의 파일로 저장하기_수정버전.ipynb',\n",
       " 'Part_2_Chap 16_2 파일 다운로드용 크롤러 만들기 - xls 와 csv 형식 다운로드 받기.ipynb',\n",
       " 'Part_2_Chap 12_2 수집된 결과를 다양한 형태의 파일로 저장하기_지자체이름포함.ipynb',\n",
       " 'Part_2_Chap 17 다양한 댓글과 리뷰 수집하기.ipynb',\n",
       " 'Part_1_Chap 7 예외처리 활용 방법.ipynb',\n",
       " 'Part_2_Chap 18 인터넷 쇼핑몰의  Best Seller 상품 정보 추출하기.ipynb',\n",
       " 'Part_2_Chap 13 검색 건수를 입력받아 요약 정보 추출후 저장하기_v1.ipynb',\n",
       " 'Part_1_Chap 9 Beautiful Soup.ipynb',\n",
       " 'Part_1_Chap 3 다양한 데이터 유형과 주요 함수 활용방법.ipynb',\n",
       " 'Part_2_Chap 16_1 이미지 다운로드용 크롤러 만들기.ipynb',\n",
       " 'Part_2_Chap 11 조회된 결과를 찾아서 데이터 수집한 후 txt 형식으로 저장하기.ipynb',\n",
       " 'Part_2_Chap 20.수집된 텍스트 데이터 분석 및 다양한 시각화하기.ipynb',\n",
       " 'Part_2_Chap 10 셀레니움 환경 설정과 검색창에 검색어 입력하여 조회하기.ipynb',\n",
       " 'Part_2_Chap 12_1 수집된 결과를 다양한 형태의 파일로 저장하기.ipynb',\n",
       " 'Part_1_Chap 4 조건문과 반복문 활용하기.ipynb',\n",
       " '.ipynb_checkpoints',\n",
       " 'Part_1_Chap 6  디렉토리와 파일관리.ipynb',\n",
       " 'Part_1_Chap 5 사용자 정의 함수와 모듈 사용 방법.ipynb',\n",
       " 'Part_2_Chap 19 인터넷 언론 정보 수집하기 - 2018년 조선일보 경제 분야 기사 수집하기.ipynb',\n",
       " 'Part_1_Chap 2 변수 사용법과 입출력 배우기 .ipynb']"
      ]
     },
     "execution_count": 10,
     "metadata": {},
     "output_type": "execute_result"
    }
   ],
   "source": [
    "# listdir( ) 함수 - 지정된 폴더내의 파일과 폴더의 목록을 출력하는 함수\n",
    "\n",
    "os.listdir(\"./\")"
   ]
  },
  {
   "cell_type": "code",
   "execution_count": 12,
   "metadata": {},
   "outputs": [
    {
     "name": "stdout",
     "output_type": "stream",
     "text": [
      "Part_2_Chap 13 검색 건수를 입력받아 요약 정보 추출후 저장하기_v2.ipynb\n",
      "Part_2_Chap 14 특정 게시글의 상세 데이터 수집하기.ipynb\n",
      "Part_2_Chap 15 여러건의 게시물의 상세 내용을 수집하여 다양한 형태의 파일로 저장하기_수정버전.ipynb\n",
      "Part_2_Chap 16_2 파일 다운로드용 크롤러 만들기 - xls 와 csv 형식 다운로드 받기.ipynb\n",
      "Part_2_Chap 12_2 수집된 결과를 다양한 형태의 파일로 저장하기_지자체이름포함.ipynb\n",
      "Part_2_Chap 17 다양한 댓글과 리뷰 수집하기.ipynb\n",
      "Part_1_Chap 7 예외처리 활용 방법.ipynb\n",
      "Part_2_Chap 18 인터넷 쇼핑몰의  Best Seller 상품 정보 추출하기.ipynb\n",
      "Part_2_Chap 13 검색 건수를 입력받아 요약 정보 추출후 저장하기_v1.ipynb\n",
      "Part_1_Chap 9 Beautiful Soup.ipynb\n",
      "Part_1_Chap 3 다양한 데이터 유형과 주요 함수 활용방법.ipynb\n",
      "Part_2_Chap 16_1 이미지 다운로드용 크롤러 만들기.ipynb\n",
      "Part_2_Chap 11 조회된 결과를 찾아서 데이터 수집한 후 txt 형식으로 저장하기.ipynb\n",
      "Part_2_Chap 20.수집된 텍스트 데이터 분석 및 다양한 시각화하기.ipynb\n",
      "Part_2_Chap 10 셀레니움 환경 설정과 검색창에 검색어 입력하여 조회하기.ipynb\n",
      "Part_2_Chap 12_1 수집된 결과를 다양한 형태의 파일로 저장하기.ipynb\n",
      "Part_1_Chap 4 조건문과 반복문 활용하기.ipynb\n",
      ".ipynb_checkpoints\n",
      "Part_1_Chap 6  디렉토리와 파일관리.ipynb\n",
      "Part_1_Chap 5 사용자 정의 함수와 모듈 사용 방법.ipynb\n",
      "Part_2_Chap 19 인터넷 언론 정보 수집하기 - 2018년 조선일보 경제 분야 기사 수집하기.ipynb\n",
      "Part_1_Chap 2 변수 사용법과 입출력 배우기 .ipynb\n"
     ]
    }
   ],
   "source": [
    "# listdir( ) 함수 - 지정된 폴더내의 파일과 폴더의 목록을 출력하는 함수\n",
    "\n",
    "for i in os.listdir(\"./\") :\n",
    "    print(i)\n",
    "    \n",
    "    "
   ]
  },
  {
   "cell_type": "code",
   "execution_count": 13,
   "metadata": {},
   "outputs": [
    {
     "name": "stdout",
     "output_type": "stream",
     "text": [
      "True\n",
      "False\n"
     ]
    }
   ],
   "source": [
    "#os.path.exists( ) 함수 - 특정 폴더의 존재 여부 확인\n",
    "\n",
    "print( os.path.exists(\"./\") )\n",
    "\n",
    "print( os.path.exists(\"./Part_1_Chap 2 변수 사용법과 입출력 배우기1.ipynb\") )"
   ]
  },
  {
   "cell_type": "code",
   "execution_count": 21,
   "metadata": {},
   "outputs": [],
   "source": [
    "#mkdir( ) 함수와 makedirs( ) 함수\n",
    "\n",
    "os.mkdir(\"./temp1/.temp2\")"
   ]
  },
  {
   "cell_type": "code",
   "execution_count": 22,
   "metadata": {},
   "outputs": [
    {
     "ename": "FileExistsError",
     "evalue": "[Errno 17] File exists: './temp1/.temp2'",
     "output_type": "error",
     "traceback": [
      "\u001b[0;31m---------------------------------------------------------------------------\u001b[0m",
      "\u001b[0;31mFileExistsError\u001b[0m                           Traceback (most recent call last)",
      "Cell \u001b[0;32mIn[22], line 1\u001b[0m\n\u001b[0;32m----> 1\u001b[0m os\u001b[39m.\u001b[39;49mmakedirs(\u001b[39m\"\u001b[39;49m\u001b[39m./temp1/.temp2\u001b[39;49m\u001b[39m\"\u001b[39;49m)\n",
      "File \u001b[0;32m~/opt/anaconda3/envs/snsbig/lib/python3.9/os.py:225\u001b[0m, in \u001b[0;36mmakedirs\u001b[0;34m(name, mode, exist_ok)\u001b[0m\n\u001b[1;32m    223\u001b[0m         \u001b[39mreturn\u001b[39;00m\n\u001b[1;32m    224\u001b[0m \u001b[39mtry\u001b[39;00m:\n\u001b[0;32m--> 225\u001b[0m     mkdir(name, mode)\n\u001b[1;32m    226\u001b[0m \u001b[39mexcept\u001b[39;00m \u001b[39mOSError\u001b[39;00m:\n\u001b[1;32m    227\u001b[0m     \u001b[39m# Cannot rely on checking for EEXIST, since the operating system\u001b[39;00m\n\u001b[1;32m    228\u001b[0m     \u001b[39m# could give priority to other errors like EACCES or EROFS\u001b[39;00m\n\u001b[1;32m    229\u001b[0m     \u001b[39mif\u001b[39;00m \u001b[39mnot\u001b[39;00m exist_ok \u001b[39mor\u001b[39;00m \u001b[39mnot\u001b[39;00m path\u001b[39m.\u001b[39misdir(name):\n",
      "\u001b[0;31mFileExistsError\u001b[0m: [Errno 17] File exists: './temp1/.temp2'"
     ]
    }
   ],
   "source": [
    "os.makedirs(\"./temp1/.temp2\")"
   ]
  },
  {
   "cell_type": "code",
   "execution_count": 23,
   "metadata": {},
   "outputs": [
    {
     "ename": "FileExistsError",
     "evalue": "[Errno 17] File exists: './temp1'",
     "output_type": "error",
     "traceback": [
      "\u001b[0;31m---------------------------------------------------------------------------\u001b[0m",
      "\u001b[0;31mFileExistsError\u001b[0m                           Traceback (most recent call last)",
      "Cell \u001b[0;32mIn[23], line 1\u001b[0m\n\u001b[0;32m----> 1\u001b[0m os\u001b[39m.\u001b[39;49mmakedirs(\u001b[39m\"\u001b[39;49m\u001b[39m./temp1\u001b[39;49m\u001b[39m\"\u001b[39;49m)\n",
      "File \u001b[0;32m~/opt/anaconda3/envs/snsbig/lib/python3.9/os.py:225\u001b[0m, in \u001b[0;36mmakedirs\u001b[0;34m(name, mode, exist_ok)\u001b[0m\n\u001b[1;32m    223\u001b[0m         \u001b[39mreturn\u001b[39;00m\n\u001b[1;32m    224\u001b[0m \u001b[39mtry\u001b[39;00m:\n\u001b[0;32m--> 225\u001b[0m     mkdir(name, mode)\n\u001b[1;32m    226\u001b[0m \u001b[39mexcept\u001b[39;00m \u001b[39mOSError\u001b[39;00m:\n\u001b[1;32m    227\u001b[0m     \u001b[39m# Cannot rely on checking for EEXIST, since the operating system\u001b[39;00m\n\u001b[1;32m    228\u001b[0m     \u001b[39m# could give priority to other errors like EACCES or EROFS\u001b[39;00m\n\u001b[1;32m    229\u001b[0m     \u001b[39mif\u001b[39;00m \u001b[39mnot\u001b[39;00m exist_ok \u001b[39mor\u001b[39;00m \u001b[39mnot\u001b[39;00m path\u001b[39m.\u001b[39misdir(name):\n",
      "\u001b[0;31mFileExistsError\u001b[0m: [Errno 17] File exists: './temp1'"
     ]
    }
   ],
   "source": [
    "os.makedirs(\"./temp1\")"
   ]
  },
  {
   "cell_type": "code",
   "execution_count": 29,
   "metadata": {},
   "outputs": [
    {
     "ename": "FileNotFoundError",
     "evalue": "[Errno 2] No such file or directory: './temp1/temp2'",
     "output_type": "error",
     "traceback": [
      "\u001b[0;31m---------------------------------------------------------------------------\u001b[0m",
      "\u001b[0;31mFileNotFoundError\u001b[0m                         Traceback (most recent call last)",
      "Cell \u001b[0;32mIn[29], line 4\u001b[0m\n\u001b[1;32m      1\u001b[0m \u001b[39m# rmdir( ) 함수와 removedirs( ) 함수\u001b[39;00m\n\u001b[1;32m      2\u001b[0m \n\u001b[1;32m      3\u001b[0m \u001b[39m# os.rmdir(\"./temp1\")\u001b[39;00m\n\u001b[0;32m----> 4\u001b[0m os\u001b[39m.\u001b[39;49mrmdir(\u001b[39m\"\u001b[39;49m\u001b[39m./temp1/temp2\u001b[39;49m\u001b[39m\"\u001b[39;49m)\n\u001b[1;32m      6\u001b[0m os\u001b[39m.\u001b[39mmakedirs(\u001b[39m\"\u001b[39m\u001b[39m./temp1\u001b[39m\u001b[39m\"\u001b[39m)\n\u001b[1;32m      7\u001b[0m os\u001b[39m.\u001b[39mremovedirs(\u001b[39m\"\u001b[39m\u001b[39m./temp1\u001b[39m\u001b[39m\"\u001b[39m)\n",
      "\u001b[0;31mFileNotFoundError\u001b[0m: [Errno 2] No such file or directory: './temp1/temp2'"
     ]
    }
   ],
   "source": [
    "# rmdir( ) 함수와 removedirs( ) 함수\n",
    "\n",
    "# os.rmdir(\"./temp1\")\n",
    "os.rmdir(\"./temp1/temp2\")\n",
    "\n",
    "os.makedirs(\"./temp1\")\n",
    "os.removedirs(\"./temp1\")"
   ]
  },
  {
   "cell_type": "code",
   "execution_count": 23,
   "metadata": {
    "scrolled": true
   },
   "outputs": [
    {
     "name": "stdout",
     "output_type": "stream",
     "text": [
      "/Users/hwangseho/Desktop/SNSbigdata_sourcecode/temp1\n"
     ]
    }
   ],
   "source": [
    "# 다양한 형식의 파일 생성 및 수정하기\n",
    "# 1) txt 파일 생성하기\n",
    "import os\n",
    "\n",
    "pth = \"/Users/hwangseho/Desktop/SNSbigdata_sourcecode\"\n",
    "\n",
    "print( os.getcwd( ) )\n",
    "os.remove(pth + \"/temp1/test1.txt\")\n",
    "os.removedirs(pth + \"/temp1\")\n"
   ]
  },
  {
   "cell_type": "code",
   "execution_count": 22,
   "metadata": {},
   "outputs": [
    {
     "name": "stdout",
     "output_type": "stream",
     "text": [
      "/Users/hwangseho/Desktop/SNSbigdata_sourcecode/temp1\n"
     ]
    }
   ],
   "source": [
    "os.makedirs(pth + \"/temp1\")\n",
    "os.chdir(pth + \"/temp1\")\n",
    "print( os.getcwd( ) )\n",
    "\n",
    "file = open(\"test1.txt\",\"w\")\n",
    "file.write(\" 텍스트 파일에 처음 쓴 글입니다\")\n",
    "file.close( )"
   ]
  },
  {
   "cell_type": "code",
   "execution_count": 4,
   "metadata": {},
   "outputs": [],
   "source": [
    "file2 = open(\"test1.txt\",\"w\")\n",
    "file2.write(\"텍스트 파일에 두번째 쓴 글입니다\")\n",
    "file2.close( )"
   ]
  },
  {
   "cell_type": "code",
   "execution_count": 5,
   "metadata": {},
   "outputs": [],
   "source": [
    "file3 = open(\"test1.txt\",\"a\")\n",
    "file3.write(\"텍스트 파일에 세번째 쓴 글입니다\")\n",
    "file3.close( )"
   ]
  },
  {
   "cell_type": "code",
   "execution_count": 6,
   "metadata": {},
   "outputs": [],
   "source": [
    "file4 = open(\"test1.txt\",\"a\")\n",
    "file4.write(\"\\n\" + \"텍스트 파일에 네번째 쓴 글입니다\")\n",
    "file4.close( )"
   ]
  },
  {
   "cell_type": "code",
   "execution_count": 8,
   "metadata": {},
   "outputs": [
    {
     "name": "stdout",
     "output_type": "stream",
     "text": [
      "   과목번호   과목명\n",
      "0     1    수학\n",
      "1     2    과학\n",
      "2     3  빅데이터\n"
     ]
    }
   ],
   "source": [
    "import pandas as pd\n",
    "\n",
    "# 표 ( 데이터 프레임 ) 만들기\n",
    "no = [ ]\n",
    "subject_name = [ ]\n",
    "\n",
    "no.append(1)\n",
    "no.append(2)\n",
    "no.append(3)\n",
    "\n",
    "subject_name.append('수학')\n",
    "subject_name.append('과학')\n",
    "subject_name.append('빅데이터')\n",
    "\n",
    "subject = pd.DataFrame( )\n",
    "subject['과목번호'] = no\n",
    "subject['과목명'] = subject_name\n",
    "print(subject)\n"
   ]
  },
  {
   "cell_type": "code",
   "execution_count": 8,
   "metadata": {},
   "outputs": [],
   "source": [
    "# csv 형식으로 저장하기\n",
    "subject.to_csv(\"c:\\\\py_temp2\\\\subject.csv\", encoding=\"utf-8-sig\",index=False)\n",
    "\n",
    "# xls 형식으로 저장하기\n",
    "subject.to_excel(\"c:\\\\py_temp2\\\\subject.xls\" , index=False)\n"
   ]
  },
  {
   "cell_type": "code",
   "execution_count": 9,
   "metadata": {},
   "outputs": [
    {
     "data": {
      "text/plain": [
       "['1.새우깡\\n', '2.맛동산\\n', '3.감자깡\\n', '4.고구마깡\\n', '5.꼬깔콘']"
      ]
     },
     "execution_count": 9,
     "metadata": {},
     "output_type": "execute_result"
    }
   ],
   "source": [
    "# txt 형식 파일 내용 읽기\n",
    "\n",
    "f = open(\"c:\\\\py_temp2\\\\readme.txt\",\"r\")\n",
    "f.readlines()"
   ]
  },
  {
   "cell_type": "code",
   "execution_count": 22,
   "metadata": {},
   "outputs": [
    {
     "name": "stdout",
     "output_type": "stream",
     "text": [
      "['1.새우깡\\n', '2.맛동산\\n', '3.감자깡\\n', '4.고구마깡\\n', '5.꼬깔콘']\n",
      "\n",
      "\n",
      "1.새우깡\n",
      "\n",
      "2.맛동산\n",
      "\n",
      "\n",
      "\n",
      "1.새우깡\n",
      "\n",
      "2.맛동산\n",
      "\n",
      "3.감자깡\n",
      "\n",
      "4.고구마깡\n",
      "\n",
      "5.꼬깔콘\n"
     ]
    }
   ],
   "source": [
    "f = open(\"c:\\\\py_temp2\\\\readme.txt\",\"r\")\n",
    "snack = f.readlines( )\n",
    "print(snack)\n",
    "print(\"\\n\")\n",
    "\n",
    "#index 방법으로 특정 행을 조회하기\n",
    "print(snack[0])\n",
    "print(snack[1])\n",
    "print(\"\\n\")\n",
    "\n",
    "#for 반복문으로 한꺼번에 출력하기\n",
    "for i in snack :\n",
    "    print(i)\n",
    "\n",
    "      "
   ]
  },
  {
   "cell_type": "code",
   "execution_count": 18,
   "metadata": {},
   "outputs": [
    {
     "data": {
      "text/plain": [
       "'2.맛동산\\n'"
      ]
     },
     "execution_count": 18,
     "metadata": {},
     "output_type": "execute_result"
    }
   ],
   "source": [
    "snack[0]\n",
    "snack[1]"
   ]
  },
  {
   "cell_type": "code",
   "execution_count": 24,
   "metadata": {},
   "outputs": [
    {
     "name": "stdout",
     "output_type": "stream",
     "text": [
      "{'전우치': 'aaa@gmail.com', '홍길동': 'ccc@naver.com', '일지매': 'bbb@daum.net'}\n"
     ]
    }
   ],
   "source": [
    "# xls 형식의 파일 내용 불러오기\n",
    "\n",
    "import openpyxl\n",
    "wb = openpyxl.load_workbook(\"c:\\\\temp\\\\email.xlsx\")\n",
    "sheet = wb['Sheet1']\n",
    "\n",
    "contents = {  }\n",
    "for i in range(2,sheet.max_row+1) :\n",
    "    name = sheet.cell(row=i , column=1).value \n",
    "    email = sheet.cell(row=i , column=2).value\n",
    "    contents[name] = email\n",
    "\n",
    "print(contents)\n"
   ]
  },
  {
   "cell_type": "code",
   "execution_count": 25,
   "metadata": {},
   "outputs": [
    {
     "name": "stdout",
     "output_type": "stream",
     "text": [
      "['name', 'email']\n",
      "['전우치', 'aaa@gmail.com']\n",
      "['일지매', 'bbb@daum.net']\n",
      "['홍길동', 'ccc@naver.com']\n"
     ]
    }
   ],
   "source": [
    "# csv 형식의 파일 내용 불러오기\n",
    "\n",
    "import csv\n",
    "\n",
    "f = open('c:\\\\temp\\\\email.csv')\n",
    "f_csv = csv.reader(f)\n",
    "for i in f_csv :\n",
    "    print(i)"
   ]
  },
  {
   "cell_type": "code",
   "execution_count": 26,
   "metadata": {},
   "outputs": [
    {
     "ename": "UnicodeDecodeError",
     "evalue": "'cp949' codec can't decode byte 0xec in position 15: illegal multibyte sequence",
     "output_type": "error",
     "traceback": [
      "\u001b[1;31m---------------------------------------------------------------------------\u001b[0m",
      "\u001b[1;31mUnicodeDecodeError\u001b[0m                        Traceback (most recent call last)",
      "\u001b[1;32m<ipython-input-26-4ac032c1d970>\u001b[0m in \u001b[0;36m<module>\u001b[1;34m\u001b[0m\n\u001b[0;32m      5\u001b[0m \u001b[0mf\u001b[0m \u001b[1;33m=\u001b[0m \u001b[0mopen\u001b[0m\u001b[1;33m(\u001b[0m\u001b[1;34m'c:\\\\temp\\\\email_utf8.csv'\u001b[0m\u001b[1;33m)\u001b[0m\u001b[1;33m\u001b[0m\u001b[0m\n\u001b[0;32m      6\u001b[0m \u001b[0mf_csv\u001b[0m \u001b[1;33m=\u001b[0m \u001b[0mcsv\u001b[0m\u001b[1;33m.\u001b[0m\u001b[0mreader\u001b[0m\u001b[1;33m(\u001b[0m\u001b[0mf\u001b[0m\u001b[1;33m)\u001b[0m\u001b[1;33m\u001b[0m\u001b[0m\n\u001b[1;32m----> 7\u001b[1;33m \u001b[1;32mfor\u001b[0m \u001b[0mi\u001b[0m \u001b[1;32min\u001b[0m \u001b[0mf_csv\u001b[0m \u001b[1;33m:\u001b[0m\u001b[1;33m\u001b[0m\u001b[0m\n\u001b[0m\u001b[0;32m      8\u001b[0m     \u001b[0mprint\u001b[0m\u001b[1;33m(\u001b[0m\u001b[0mi\u001b[0m\u001b[1;33m)\u001b[0m\u001b[1;33m\u001b[0m\u001b[0m\n",
      "\u001b[1;31mUnicodeDecodeError\u001b[0m: 'cp949' codec can't decode byte 0xec in position 15: illegal multibyte sequence"
     ]
    }
   ],
   "source": [
    "# utf-8로 인코딩된 csv 형식의 파일 내용 불러오기\n",
    "\n",
    "import csv\n",
    "\n",
    "f = open('c:\\\\temp\\\\email_utf8.csv')\n",
    "f_csv = csv.reader(f)\n",
    "for i in f_csv :\n",
    "    print(i)"
   ]
  },
  {
   "cell_type": "code",
   "execution_count": 27,
   "metadata": {
    "scrolled": true
   },
   "outputs": [
    {
     "name": "stdout",
     "output_type": "stream",
     "text": [
      "['\\ufeffname', 'email']\n",
      "['전우치', 'aaa@gmail.com']\n",
      "['일지매', 'bbb@daum.net']\n",
      "['홍길동', 'ccc@naver.com']\n"
     ]
    }
   ],
   "source": [
    "f2 = open('c:\\\\temp\\\\email_utf8.csv ' , encoding=\"utf-8\")\n",
    "f2_csv = csv.reader(f2)\n",
    "for i in f2_csv :\n",
    "    print(i)"
   ]
  },
  {
   "cell_type": "code",
   "execution_count": null,
   "metadata": {},
   "outputs": [],
   "source": []
  }
 ],
 "metadata": {
  "kernelspec": {
   "display_name": "snsbig",
   "language": "python",
   "name": "python3"
  },
  "language_info": {
   "codemirror_mode": {
    "name": "ipython",
    "version": 3
   },
   "file_extension": ".py",
   "mimetype": "text/x-python",
   "name": "python",
   "nbconvert_exporter": "python",
   "pygments_lexer": "ipython3",
   "version": "3.9.13"
  },
  "vscode": {
   "interpreter": {
    "hash": "fb07edc57f1830f411f4b71c028b7993aefeaa549bfa4293671627434962f776"
   }
  }
 },
 "nbformat": 4,
 "nbformat_minor": 2
}
