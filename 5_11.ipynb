{
 "cells": [
  {
   "cell_type": "code",
   "execution_count": 4,
   "metadata": {},
   "outputs": [
    {
     "name": "stderr",
     "output_type": "stream",
     "text": [
      "/var/folders/g7/dh8v6rd91kz0fm7zl5kcjvq40000gn/T/ipykernel_20306/4110553125.py:12: DeprecationWarning: executable_path has been deprecated, please pass in a Service object\n",
      "  driver = webdriver.Chrome(path)\n"
     ]
    }
   ],
   "source": [
    "from bs4 import BeautifulSoup     \n",
    "from selenium import webdriver\n",
    "from selenium.webdriver.common.by import By\n",
    "import time\n",
    "\n",
    "query_txt = input('크롤링할 키워드는 무엇입니까?: ')\n",
    "\n",
    "path = '/opt/homebrew/Caskroom/chromedriver/112.0.5615.49/chromedriver'\n",
    "# /opt/homebrew/Caskroom/chromedriver/112.0.5615.49/chromedriver\n",
    "# xattr -d com.apple.quarantine chromedriver 드라이버 허용 명령어 mac\n",
    "\n",
    "driver = webdriver.Chrome(path)\n",
    "\n",
    "driver.get('https://naver.com')\n",
    "time.sleep(2)\n",
    "\n",
    "element = driver.find_element(By.ID,\"query\")\n",
    "\n",
    "element.send_keys(query_txt)\n",
    "element.send_keys(\"\\n\")"
   ]
  },
  {
   "cell_type": "code",
   "execution_count": 6,
   "metadata": {},
   "outputs": [
    {
     "name": "stderr",
     "output_type": "stream",
     "text": [
      "/var/folders/g7/dh8v6rd91kz0fm7zl5kcjvq40000gn/T/ipykernel_20306/1075514857.py:12: DeprecationWarning: executable_path has been deprecated, please pass in a Service object\n",
      "  driver = webdriver.Chrome(path)\n"
     ]
    }
   ],
   "source": [
    "from bs4 import BeautifulSoup     \n",
    "from selenium import webdriver\n",
    "from selenium.webdriver.common.by import By\n",
    "import time\n",
    "\n",
    "query_txt = input('크롤링할 키워드는 무엇입니까?: ')\n",
    "\n",
    "path = '/opt/homebrew/Caskroom/chromedriver/112.0.5615.49/chromedriver'\n",
    "# /opt/homebrew/Caskroom/chromedriver/112.0.5615.49/chromedriver\n",
    "# xattr -d com.apple.quarantine chromedriver 드라이버 허용 명령어 mac\n",
    "\n",
    "driver = webdriver.Chrome(path)\n",
    "\n",
    "driver.get('https://www.daum.net')\n",
    "time.sleep(2)\n",
    "\n",
    "element = driver.find_element(By.ID,\"q\")\n",
    "\n",
    "element.send_keys(query_txt)\n",
    "element.send_keys(\"\\n\")"
   ]
  },
  {
   "cell_type": "code",
   "execution_count": 5,
   "metadata": {},
   "outputs": [
    {
     "name": "stderr",
     "output_type": "stream",
     "text": [
      "/var/folders/g7/dh8v6rd91kz0fm7zl5kcjvq40000gn/T/ipykernel_20306/297400160.py:12: DeprecationWarning: executable_path has been deprecated, please pass in a Service object\n",
      "  driver = webdriver.Chrome(path)\n"
     ]
    }
   ],
   "source": [
    "from bs4 import BeautifulSoup     \n",
    "from selenium import webdriver\n",
    "from selenium.webdriver.common.by import By\n",
    "import time\n",
    "\n",
    "query_txt = input('크롤링할 키워드는 무엇입니까?: ')\n",
    "\n",
    "path = '/opt/homebrew/Caskroom/chromedriver/112.0.5615.49/chromedriver'\n",
    "# /opt/homebrew/Caskroom/chromedriver/112.0.5615.49/chromedriver\n",
    "# xattr -d com.apple.quarantine chromedriver 드라이버 허용 명령어 mac\n",
    "\n",
    "driver = webdriver.Chrome(path)\n",
    "\n",
    "driver.get('https://www.google.com')\n",
    "time.sleep(2)\n",
    "\n",
    "element = driver.find_element(By.ID,\"APjFqb\")\n",
    "\n",
    "element.send_keys(query_txt)\n",
    "element.send_keys(\"\\n\")"
   ]
  },
  {
   "cell_type": "code",
   "execution_count": 6,
   "metadata": {},
   "outputs": [
    {
     "name": "stderr",
     "output_type": "stream",
     "text": [
      "INFO:root:드라이버 : 드라이버 설정 완료.\n",
      "INFO:root:드라이버 : 드라이버 설치 및 실행 시작.\n",
      "INFO:WDM:====== WebDriver manager ======\n",
      "INFO:WDM:There is no [mac_arm64] chromedriver \"latest\" for browser google-chrome \"113.0.5672\" in cache\n",
      "INFO:WDM:Get LATEST chromedriver version for google-chrome\n",
      "INFO:WDM:About to download new driver from https://chromedriver.storage.googleapis.com/113.0.5672.63/chromedriver_mac_arm64.zip\n",
      "[WDM] - Downloading: 100%|██████████| 8.06M/8.06M [00:02<00:00, 3.53MB/s]\n",
      "INFO:WDM:Driver has been saved in cache [/Users/hwangseho/.wdm/drivers/chromedriver/mac_arm64/113.0.5672.63]\n",
      "/var/folders/g7/dh8v6rd91kz0fm7zl5kcjvq40000gn/T/ipykernel_20958/1748159771.py:46: DeprecationWarning: executable_path has been deprecated, please pass in a Service object\n",
      "  driver = webdriver.Chrome(chrome_driver)\n",
      "INFO:root:드라이버 : 드라이버 설치 및 실행 완료.\n",
      "INFO:root:구글 : 구글 검색 시작.\n",
      "INFO:root:구글 : 구글 검색 완료.\n",
      "INFO:root:네이버 : 네이버 검색 시작.\n",
      "INFO:root:네이버 : 네이버 검색 종료.\n",
      "INFO:root:다음 : 다음 검색 시작.\n",
      "INFO:root:URL: https://search.daum.net/search?w=tot&q=%EB%B4%84%EC%97%AC%ED%96%89\n",
      "INFO:root:다음 : 다음 검색 완료.\n"
     ]
    }
   ],
   "source": [
    "\"\"\"\n",
    "네이버, 구글, 다음 포털 사이트에서 '봄여행' 키워드를 검색한 후\n",
    "각각 'naver_image.png', 'google_image.png', 'daum_image.png'의 이름으로 스크롤샷을 남기는 프로그램 코드\n",
    "- 구글, 네이버 페이지는 스크롤바가 없는 화면을 촬영하기 위해 'body' 엘리먼트를 선택해서 촬영하였으나\n",
    "- 다음 페이지는 보안상 'body' 엘리먼트만 선택할 수 없어, 전체 스크롤셧으로 촬영함.\n",
    "필요한 모듈 : selenium, webdriver_manager\n",
    "설치 명령 : pip install selenium webdriver_manager\n",
    "\"\"\"\n",
    "\n",
    "from selenium import webdriver\n",
    "from webdriver_manager.chrome import ChromeDriverManager  # 웹 드라이버 설치\n",
    "from urllib import parse  # URL 인코드\n",
    "import logging  # 로그\n",
    "import time\n",
    "\n",
    "\n",
    "def parse_url(url: str) -> str:\n",
    "    \"\"\" JS : encodeURI \"\"\"\n",
    "    return parse.quote(url, safe=\":/?$&=#\")\n",
    "\n",
    "\n",
    "def search_by_google(keyword: str) -> str:\n",
    "    \"\"\" 구글 검색 URL \"\"\"\n",
    "    return parse_url(f\"https://www.google.com?q={keyword}\")\n",
    "\n",
    "\n",
    "def search_by_naver(keyword: str) -> str:\n",
    "    \"\"\" 네이버 검색 URL \"\"\"\n",
    "    return parse_url(f\"https://search.naver.com/search.naver?where=view&sm=tab_jum&query={keyword}\")\n",
    "\n",
    "\n",
    "def search_by_daum(keyword: str) -> str:\n",
    "    \"\"\" 다음 검색 URL \"\"\"\n",
    "    return parse_url(f\"https://search.daum.net/search?w=tot&q={keyword}\")\n",
    "\n",
    "\n",
    "KEYWORD = \"봄여행\"\n",
    "\n",
    "logging.basicConfig(level=logging.INFO)\n",
    "\n",
    "chrome_options = webdriver.ChromeOptions()\n",
    "logging.info(\"드라이버 : 드라이버 설정 완료.\")\n",
    "logging.info(\"드라이버 : 드라이버 설치 및 실행 시작.\")\n",
    "\n",
    "chrome_driver = ChromeDriverManager().install()\n",
    "driver = webdriver.Chrome(chrome_driver)\n",
    "driver.maximize_window()\n",
    "\n",
    "logging.info(\"드라이버 : 드라이버 설치 및 실행 완료.\")\n",
    "\n",
    "# 구글 : 검색\n",
    "logging.info(\"구글 : 구글 검색 시작.\")\n",
    "driver.get(search_by_google(KEYWORD))\n",
    "driver.implicitly_wait(30)\n",
    "\n",
    "# 구글 : 검색 실행\n",
    "driver.execute_script(\"\"\"\n",
    "    document.querySelector(\"body > div.L3eUgb > div.o3j99.ikrT4e.om7nvf > form > div:nth-child(1) > div.A8SBwf > div.FPdoLc.lJ9FBc > center > input.gNO89b\").click();\n",
    "\"\"\")\n",
    "driver.implicitly_wait(30)\n",
    "logging.info(\"구글 : 구글 검색 완료.\")\n",
    "\n",
    "time.sleep(3)\n",
    "\n",
    "# 네이버 : 검색\n",
    "logging.info(\"네이버 : 네이버 검색 시작.\")\n",
    "driver.get(search_by_naver(KEYWORD))\n",
    "driver.implicitly_wait(30)\n",
    "logging.info(\"네이버 : 네이버 검색 종료.\")\n",
    "\n",
    "time.sleep(3)\n",
    "\n",
    "# 다음 : 검색\n",
    "logging.info(\"다음 : 다음 검색 시작.\")\n",
    "logging.info(f\"URL: {search_by_daum(KEYWORD)}\")\n",
    "driver.get(search_by_daum(KEYWORD))\n",
    "driver.implicitly_wait(30)\n",
    "logging.info(\"다음 : 다음 검색 완료.\")\n",
    "\n",
    "time.sleep(3)"
   ]
  }
 ],
 "metadata": {
  "kernelspec": {
   "display_name": "snsbig",
   "language": "python",
   "name": "python3"
  },
  "language_info": {
   "codemirror_mode": {
    "name": "ipython",
    "version": 3
   },
   "file_extension": ".py",
   "mimetype": "text/x-python",
   "name": "python",
   "nbconvert_exporter": "python",
   "pygments_lexer": "ipython3",
   "version": "3.8.16"
  },
  "orig_nbformat": 4
 },
 "nbformat": 4,
 "nbformat_minor": 2
}
