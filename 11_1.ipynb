{
 "cells": [
  {
   "cell_type": "code",
   "execution_count": 2,
   "metadata": {},
   "outputs": [],
   "source": [
    "from bs4 import BeautifulSoup\n",
    "from selenium import webdriver\n",
    "from selenium.webdriver.common.by import By\n",
    "import time\n",
    "import sys\n",
    "import pandas as pd"
   ]
  },
  {
   "cell_type": "code",
   "execution_count": 3,
   "metadata": {},
   "outputs": [],
   "source": [
    "# input1 = input('1. 크롤링할 키워드는 무엇입니까?: ')\n",
    "# input2 = list(input('2. 포함할 키워드를 입력하세요: ').split())\n",
    "# input3 = list(input('3. 제외할 키워드를 입력하세요: ').split())\n",
    "# input4 = int(input('4. 크롤링할 건수는 몇 건입니까?: '))\n",
    "# input5 = input('5. 조회를 시작할 년도를 입력하세요(예:20220101): ')\n",
    "# input6 = input('6. 조회를 종료할 날짜를 입력하세요(예:20231014): ')\n",
    "# ft_name = input('7. txt 형태로 저장할 경로와 파일명을 확장자 포함해서 쓰세요(c:\\\\py_temp\\\\ex4.txt): ')\n",
    "# fc_name = input('8. csv 형태로 저장할 경로와 파일명을 확장자 포함해서 쓰세요(c:\\\\py_temp\\\\ex4.csv): ')\n",
    "# fx_name = input('9. xls 형태로 저장할 경로와 파일명을 확장자 포함해서 쓰세요(c:\\\\py_temp\\\\ex4.xls): ')\n",
    "\n",
    "input1='perfume'\n",
    "input2='jomalone'\n",
    "input3='forment'\n",
    "input4=10\n",
    "input5='20200101'\n",
    "input6='20230601'\n",
    "ft_name='./11.txt'\n",
    "fc_name='./11.csv'\n",
    "fx_name='./11.xls'"
   ]
  },
  {
   "cell_type": "code",
   "execution_count": 4,
   "metadata": {},
   "outputs": [],
   "source": [
    "inckey = ' '.join(input2)\n",
    "exckey = ' '.join(['-' + keyword for keyword in input3])\n",
    "query = input1 + ' ' + inckey + ' ' + exckey"
   ]
  },
  {
   "cell_type": "code",
   "execution_count": 5,
   "metadata": {},
   "outputs": [
    {
     "name": "stderr",
     "output_type": "stream",
     "text": [
      "/var/folders/g7/dh8v6rd91kz0fm7zl5kcjvq40000gn/T/ipykernel_49164/3264557034.py:2: DeprecationWarning: executable_path has been deprecated, please pass in a Service object\n",
      "  driver = webdriver.Chrome(path)\n"
     ]
    }
   ],
   "source": [
    "path = '/opt/homebrew/Caskroom/chromedriver/112.0.5615.49/chromedriver'\n",
    "driver = webdriver.Chrome(path)\n",
    "driver.get(\"https://www.naver.com\")\n",
    "time.sleep(2)"
   ]
  },
  {
   "cell_type": "code",
   "execution_count": 6,
   "metadata": {},
   "outputs": [],
   "source": [
    "element = driver.find_element(By.ID, \"query\")\n",
    "element.send_keys(query)\n",
    "driver.find_element(By.ID, 'search-btn').click()\n",
    "driver.find_element(By.LINK_TEXT, 'VIEW').click()\n",
    "driver.find_element(By.LINK_TEXT, '블로그').click()\n",
    "\n",
    "url = \"https://search.naver.com/search.naver?where=blog&query={}&sm=tab_opt&nso=so:r,p:from{}to{}\".format(query, input5, input6)\n",
    "driver.get(url)\n",
    "time.sleep(2)"
   ]
  },
  {
   "cell_type": "code",
   "execution_count": 7,
   "metadata": {},
   "outputs": [
    {
     "name": "stdout",
     "output_type": "stream",
     "text": [
      "검색 결과가 없습니다.\n"
     ]
    }
   ],
   "source": [
    "num = 1\n",
    "num2 = []\n",
    "title2 = []\n",
    "cont2 = []\n",
    "nick2 = []\n",
    "site2 = []\n",
    "\n",
    "try:\n",
    "    full_html = driver.page_source\n",
    "    soup = BeautifulSoup(full_html, 'html.parser')\n",
    "    content_list = soup.find('ul', class_=\"lst_total\")\n",
    "\n",
    "    count = 0\n",
    "    for i in content_list.find_all('li', \"bx\"):\n",
    "        num2.append(num)\n",
    "        print('번호:', num)\n",
    "        num += 1\n",
    "\n",
    "        title = i.find('a', 'api_txt_lines total_tit').get_text()\n",
    "        title2.append(title)\n",
    "        print('제목:', title.strip())\n",
    "\n",
    "        cont = i.find('div', 'api_txt_lines dsc_txt').get_text()\n",
    "        cont2.append(cont)\n",
    "        print('내용:', cont.strip())\n",
    "\n",
    "        nick = i.find('a', 'sub_txt sub_name').get_text()\n",
    "        nick2.append(nick)\n",
    "        print('닉네임:', nick.strip())\n",
    "\n",
    "        site = i.find('a').get('data-url')\n",
    "        site2.append(site)\n",
    "        print('사이트:', site.strip())\n",
    "        print('\\n')\n",
    "\n",
    "        count += 1\n",
    "        if count >= input4:\n",
    "            break\n",
    "\n",
    "    result = pd.DataFrame()\n",
    "\n",
    "    result['번호'] = num2\n",
    "    result['제목'] = title2\n",
    "    result['내용'] = cont2\n",
    "    result['닉네임'] = nick2\n",
    "    result['사이트'] = site2\n",
    "\n",
    "    with open(ft_name, 'a', encoding='UTF-8') as f:\n",
    "        f.write('\\n'.join(title2))\n",
    "        f.write('\\n')\n",
    "        f.write('\\n'.join(cont2))\n",
    "        f.write('\\n')\n",
    "        f.write('\\n'.join(nick2))\n",
    "        f.write('\\n')\n",
    "        f.write('\\n'.join(site2))\n",
    "        f.write('\\n')\n",
    "\n",
    "    result.to_csv(fc_name, encoding=\"utf-8-sig\", index=False)\n",
    "    result.to_excel(fx_name, index=False)\n",
    "\n",
    "except AttributeError:\n",
    "    print(\"검색 결과가 없습니다.\")"
   ]
  }
 ],
 "metadata": {
  "kernelspec": {
   "display_name": "snsbig",
   "language": "python",
   "name": "python3"
  },
  "language_info": {
   "codemirror_mode": {
    "name": "ipython",
    "version": 3
   },
   "file_extension": ".py",
   "mimetype": "text/x-python",
   "name": "python",
   "nbconvert_exporter": "python",
   "pygments_lexer": "ipython3",
   "version": "3.8.16"
  },
  "orig_nbformat": 4
 },
 "nbformat": 4,
 "nbformat_minor": 2
}
