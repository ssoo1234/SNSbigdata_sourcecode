{
 "cells": [
  {
   "cell_type": "markdown",
   "metadata": {},
   "source": [
    "# 소주제 1:  1. 실습을 위한 환경 준비\n",
    "\n",
    "1) 파이썬은 3.5.X 버전으로 테스트를 했습니다.\n",
    "\n",
    "2. pip를 사용하여 BeautifulSoup 최신 버전을 설치합니다.\n",
    "[ 윈도의 명령 프롬프트 창에서 아래의 명령을 실행하세요]\n",
    "\n",
    "pip install bs4\n",
    "\n",
    "3. pip 를 사용하여 selenium (셀레니움)을 설치합니다.\n",
    "[ 윈도의 명령 프롬프트 창에서 아래의 명령을 실행하세요]\n",
    "\n",
    "pip install selenium\n",
    "\n",
    "4. selenium 은 웹 브라우저를 제어해서 크롤링을 진행합니다.\n",
    "그래서 selenium 을 사용할 때 웹 브라우저를 지정해 주어야 하는데 여기서는 구글사의 크롬을 이용하겠습니다. \n",
    "크롬을 사용하려면 실습을 진행하는 컴퓨터에 크롬이 설치되어 있어야 하며 selenium 이 사용할 크롬 드라이버도 있어야 합니다.\n",
    "크롬 드라이버는 아래 링크를 눌러서 최신 버전을 받아 주세요\n",
    "\n",
    "https://sites.google.com/a/chromium.org/chromedriver/downloads\n",
    "\n"
   ]
  },
  {
   "cell_type": "code",
   "execution_count": 1,
   "metadata": {},
   "outputs": [
    {
     "name": "stderr",
     "output_type": "stream",
     "text": [
      "/var/folders/g7/dh8v6rd91kz0fm7zl5kcjvq40000gn/T/ipykernel_20190/992246739.py:14: DeprecationWarning: executable_path has been deprecated, please pass in a Service object\n",
      "  driver = webdriver.Chrome(path)\n"
     ]
    },
    {
     "name": "stdout",
     "output_type": "stream",
     "text": [
      "코로나 창이 없습니다\n"
     ]
    },
    {
     "ename": "NoSuchElementException",
     "evalue": "Message: no such element: Unable to locate element: {\"method\":\"css selector\",\"selector\":\"[id=\"btnSearch\"]\"}\n  (Session info: chrome=113.0.5672.92)\nStacktrace:\n0   chromedriver                        0x0000000100f9f8ac chromedriver + 4257964\n1   chromedriver                        0x0000000100f97f40 chromedriver + 4226880\n2   chromedriver                        0x0000000100bd49d4 chromedriver + 281044\n3   chromedriver                        0x0000000100c0fa34 chromedriver + 522804\n4   chromedriver                        0x0000000100c467e4 chromedriver + 747492\n5   chromedriver                        0x0000000100c0398c chromedriver + 473484\n6   chromedriver                        0x0000000100c0498c chromedriver + 477580\n7   chromedriver                        0x0000000100f5e900 chromedriver + 3991808\n8   chromedriver                        0x0000000100f62354 chromedriver + 4006740\n9   chromedriver                        0x0000000100f62940 chromedriver + 4008256\n10  chromedriver                        0x0000000100f6833c chromedriver + 4031292\n11  chromedriver                        0x0000000100f62f34 chromedriver + 4009780\n12  chromedriver                        0x0000000100f3b490 chromedriver + 3847312\n13  chromedriver                        0x0000000100f809f4 chromedriver + 4131316\n14  chromedriver                        0x0000000100f80b4c chromedriver + 4131660\n15  chromedriver                        0x0000000100f91230 chromedriver + 4198960\n16  libsystem_pthread.dylib             0x000000018e4d3fa8 _pthread_start + 148\n17  libsystem_pthread.dylib             0x000000018e4ceda0 thread_start + 8\n",
     "output_type": "error",
     "traceback": [
      "\u001b[0;31m---------------------------------------------------------------------------\u001b[0m",
      "\u001b[0;31mNoSuchElementException\u001b[0m                    Traceback (most recent call last)",
      "Cell \u001b[0;32mIn[1], line 27\u001b[0m\n\u001b[1;32m     23\u001b[0m     \u001b[39mprint\u001b[39m(\u001b[39m\"\u001b[39m\u001b[39m코로나 창이 없습니다\u001b[39m\u001b[39m\"\u001b[39m)\n\u001b[1;32m     25\u001b[0m \u001b[39m#Step 2. 검색창의 이름을 찾아서 검색어를 입력합니다\u001b[39;00m\n\u001b[1;32m     26\u001b[0m \u001b[39m# driver.find_element_by_id(\"btnSearch\").click()\u001b[39;00m\n\u001b[0;32m---> 27\u001b[0m driver\u001b[39m.\u001b[39;49mfind_element(By\u001b[39m.\u001b[39;49mID, \u001b[39m'\u001b[39;49m\u001b[39mbtnSearch\u001b[39;49m\u001b[39m'\u001b[39;49m)\n\u001b[1;32m     29\u001b[0m element \u001b[39m=\u001b[39m driver\u001b[39m.\u001b[39mfind_element(By\u001b[39m.\u001b[39mID,\u001b[39m\"\u001b[39m\u001b[39minp_search\u001b[39m\u001b[39m\"\u001b[39m)\n\u001b[1;32m     31\u001b[0m element\u001b[39m.\u001b[39msend_keys(query_txt)\n",
      "File \u001b[0;32m~/anaconda3/envs/snsbig/lib/python3.8/site-packages/selenium/webdriver/remote/webdriver.py:831\u001b[0m, in \u001b[0;36mWebDriver.find_element\u001b[0;34m(self, by, value)\u001b[0m\n\u001b[1;32m    828\u001b[0m     by \u001b[39m=\u001b[39m By\u001b[39m.\u001b[39mCSS_SELECTOR\n\u001b[1;32m    829\u001b[0m     value \u001b[39m=\u001b[39m \u001b[39mf\u001b[39m\u001b[39m'\u001b[39m\u001b[39m[name=\u001b[39m\u001b[39m\"\u001b[39m\u001b[39m{\u001b[39;00mvalue\u001b[39m}\u001b[39;00m\u001b[39m\"\u001b[39m\u001b[39m]\u001b[39m\u001b[39m'\u001b[39m\n\u001b[0;32m--> 831\u001b[0m \u001b[39mreturn\u001b[39;00m \u001b[39mself\u001b[39;49m\u001b[39m.\u001b[39;49mexecute(Command\u001b[39m.\u001b[39;49mFIND_ELEMENT, {\u001b[39m\"\u001b[39;49m\u001b[39musing\u001b[39;49m\u001b[39m\"\u001b[39;49m: by, \u001b[39m\"\u001b[39;49m\u001b[39mvalue\u001b[39;49m\u001b[39m\"\u001b[39;49m: value})[\u001b[39m\"\u001b[39m\u001b[39mvalue\u001b[39m\u001b[39m\"\u001b[39m]\n",
      "File \u001b[0;32m~/anaconda3/envs/snsbig/lib/python3.8/site-packages/selenium/webdriver/remote/webdriver.py:440\u001b[0m, in \u001b[0;36mWebDriver.execute\u001b[0;34m(self, driver_command, params)\u001b[0m\n\u001b[1;32m    438\u001b[0m response \u001b[39m=\u001b[39m \u001b[39mself\u001b[39m\u001b[39m.\u001b[39mcommand_executor\u001b[39m.\u001b[39mexecute(driver_command, params)\n\u001b[1;32m    439\u001b[0m \u001b[39mif\u001b[39;00m response:\n\u001b[0;32m--> 440\u001b[0m     \u001b[39mself\u001b[39;49m\u001b[39m.\u001b[39;49merror_handler\u001b[39m.\u001b[39;49mcheck_response(response)\n\u001b[1;32m    441\u001b[0m     response[\u001b[39m\"\u001b[39m\u001b[39mvalue\u001b[39m\u001b[39m\"\u001b[39m] \u001b[39m=\u001b[39m \u001b[39mself\u001b[39m\u001b[39m.\u001b[39m_unwrap_value(response\u001b[39m.\u001b[39mget(\u001b[39m\"\u001b[39m\u001b[39mvalue\u001b[39m\u001b[39m\"\u001b[39m, \u001b[39mNone\u001b[39;00m))\n\u001b[1;32m    442\u001b[0m     \u001b[39mreturn\u001b[39;00m response\n",
      "File \u001b[0;32m~/anaconda3/envs/snsbig/lib/python3.8/site-packages/selenium/webdriver/remote/errorhandler.py:245\u001b[0m, in \u001b[0;36mErrorHandler.check_response\u001b[0;34m(self, response)\u001b[0m\n\u001b[1;32m    243\u001b[0m         alert_text \u001b[39m=\u001b[39m value[\u001b[39m\"\u001b[39m\u001b[39malert\u001b[39m\u001b[39m\"\u001b[39m]\u001b[39m.\u001b[39mget(\u001b[39m\"\u001b[39m\u001b[39mtext\u001b[39m\u001b[39m\"\u001b[39m)\n\u001b[1;32m    244\u001b[0m     \u001b[39mraise\u001b[39;00m exception_class(message, screen, stacktrace, alert_text)  \u001b[39m# type: ignore[call-arg]  # mypy is not smart enough here\u001b[39;00m\n\u001b[0;32m--> 245\u001b[0m \u001b[39mraise\u001b[39;00m exception_class(message, screen, stacktrace)\n",
      "\u001b[0;31mNoSuchElementException\u001b[0m: Message: no such element: Unable to locate element: {\"method\":\"css selector\",\"selector\":\"[id=\"btnSearch\"]\"}\n  (Session info: chrome=113.0.5672.92)\nStacktrace:\n0   chromedriver                        0x0000000100f9f8ac chromedriver + 4257964\n1   chromedriver                        0x0000000100f97f40 chromedriver + 4226880\n2   chromedriver                        0x0000000100bd49d4 chromedriver + 281044\n3   chromedriver                        0x0000000100c0fa34 chromedriver + 522804\n4   chromedriver                        0x0000000100c467e4 chromedriver + 747492\n5   chromedriver                        0x0000000100c0398c chromedriver + 473484\n6   chromedriver                        0x0000000100c0498c chromedriver + 477580\n7   chromedriver                        0x0000000100f5e900 chromedriver + 3991808\n8   chromedriver                        0x0000000100f62354 chromedriver + 4006740\n9   chromedriver                        0x0000000100f62940 chromedriver + 4008256\n10  chromedriver                        0x0000000100f6833c chromedriver + 4031292\n11  chromedriver                        0x0000000100f62f34 chromedriver + 4009780\n12  chromedriver                        0x0000000100f3b490 chromedriver + 3847312\n13  chromedriver                        0x0000000100f809f4 chromedriver + 4131316\n14  chromedriver                        0x0000000100f80b4c chromedriver + 4131660\n15  chromedriver                        0x0000000100f91230 chromedriver + 4198960\n16  libsystem_pthread.dylib             0x000000018e4d3fa8 _pthread_start + 148\n17  libsystem_pthread.dylib             0x000000018e4ceda0 thread_start + 8\n"
     ]
    }
   ],
   "source": [
    "#Step 0. 필요한 모듈과 라이브러리를 로딩하고 검색어를 입력 받습니다\n",
    "from bs4 import BeautifulSoup     \n",
    "from selenium import webdriver\n",
    "from selenium.webdriver.common.by import By\n",
    "import time\n",
    "\n",
    "query_txt = input('크롤링할 키워드는 무엇입니까?: ')\n",
    "\n",
    "#Step 1. 크롬 드라이버를 사용해서 웹 브라우저를 실행합니다.\n",
    "path = '/opt/homebrew/Caskroom/chromedriver/112.0.5615.49/chromedriver'\n",
    "# /opt/homebrew/Caskroom/chromedriver/112.0.5615.49/chromedriver\n",
    "# xattr -d com.apple.quarantine chromedriver 드라이버 허용 명령어 mac\n",
    "\n",
    "driver = webdriver.Chrome(path)\n",
    "\n",
    "driver.get('https://korean.visitkorea.or.kr')\n",
    "time.sleep(2)  # 위 페이지가 모두 열릴 때 까지 2초 기다립니다.\n",
    "\n",
    "#코로나 얼럿창 있을 경우 닫기 클릭하기 \n",
    "try :\n",
    "    driver.find_element_by_xpath('//*[@id=\"safetyStay1\"]/div/button').click()\n",
    "except :\n",
    "    print(\"코로나 창이 없습니다\")\n",
    "    \n",
    "#Step 2. 검색창의 이름을 찾아서 검색어를 입력합니다\n",
    "# driver.find_element_by_id(\"btnSearch\").click()\n",
    "driver.find_element(By.ID, 'btnSearch')\n",
    "\n",
    "element = driver.find_element(By.ID,\"inp_search\")\n",
    "\n",
    "element.send_keys(query_txt)\n",
    "element.send_keys(\"\\n\")\n",
    "\n",
    "#Step 3. 검색 버튼을 눌러 실행합니다\n",
    "\n",
    "#driver.find_element_by_link_text(\"검색\").click()\n",
    "#driver.find_element_by_class_name(\"btn_search2\").click()  # class name 으로도 가능합니다.\n",
    "#driver.find_element_by_xpath('//*[@id=\"gnbMain\"]/div/div/div[1]/div[1]/a').click()   # xpath 로도 가능합니다."
   ]
  },
  {
   "cell_type": "code",
   "execution_count": null,
   "metadata": {},
   "outputs": [],
   "source": []
  }
 ],
 "metadata": {
  "kernelspec": {
   "display_name": "Python 3",
   "language": "python",
   "name": "python3"
  },
  "language_info": {
   "codemirror_mode": {
    "name": "ipython",
    "version": 3
   },
   "file_extension": ".py",
   "mimetype": "text/x-python",
   "name": "python",
   "nbconvert_exporter": "python",
   "pygments_lexer": "ipython3",
   "version": "3.8.16"
  }
 },
 "nbformat": 4,
 "nbformat_minor": 2
}
