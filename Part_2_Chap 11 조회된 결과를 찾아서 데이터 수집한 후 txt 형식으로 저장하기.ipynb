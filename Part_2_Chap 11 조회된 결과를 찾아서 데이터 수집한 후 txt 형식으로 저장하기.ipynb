{
 "cells": [
  {
   "cell_type": "code",
   "execution_count": 7,
   "metadata": {},
   "outputs": [
    {
     "name": "stderr",
     "output_type": "stream",
     "text": [
      "/var/folders/g7/dh8v6rd91kz0fm7zl5kcjvq40000gn/T/ipykernel_1230/4185186054.py:15: DeprecationWarning: executable_path has been deprecated, please pass in a Service object\n",
      "  driver = webdriver.Chrome(path)\n"
     ]
    },
    {
     "name": "stdout",
     "output_type": "stream",
     "text": [
      "no window\n"
     ]
    },
    {
     "ename": "ElementNotInteractableException",
     "evalue": "Message: element not interactable\n  (Session info: chrome=113.0.5672.126)\nStacktrace:\n0   chromedriver                        0x0000000100d3b8ac chromedriver + 4257964\n1   chromedriver                        0x0000000100d33f40 chromedriver + 4226880\n2   chromedriver                        0x0000000100970854 chromedriver + 280660\n3   chromedriver                        0x00000001009ad0d8 chromedriver + 528600\n4   chromedriver                        0x00000001009a1984 chromedriver + 481668\n5   chromedriver                        0x00000001009a11cc chromedriver + 479692\n6   chromedriver                        0x00000001009e27e4 chromedriver + 747492\n7   chromedriver                        0x000000010099f98c chromedriver + 473484\n8   chromedriver                        0x00000001009a098c chromedriver + 477580\n9   chromedriver                        0x0000000100cfa900 chromedriver + 3991808\n10  chromedriver                        0x0000000100cfe354 chromedriver + 4006740\n11  chromedriver                        0x0000000100cfe940 chromedriver + 4008256\n12  chromedriver                        0x0000000100d0433c chromedriver + 4031292\n13  chromedriver                        0x0000000100cfef34 chromedriver + 4009780\n14  chromedriver                        0x0000000100cd7490 chromedriver + 3847312\n15  chromedriver                        0x0000000100d1c9f4 chromedriver + 4131316\n16  chromedriver                        0x0000000100d1cb4c chromedriver + 4131660\n17  chromedriver                        0x0000000100d2d230 chromedriver + 4198960\n18  libsystem_pthread.dylib             0x000000018e4d3fa8 _pthread_start + 148\n19  libsystem_pthread.dylib             0x000000018e4ceda0 thread_start + 8\n",
     "output_type": "error",
     "traceback": [
      "\u001b[0;31m---------------------------------------------------------------------------\u001b[0m",
      "\u001b[0;31mElementNotInteractableException\u001b[0m           Traceback (most recent call last)",
      "Cell \u001b[0;32mIn[7], line 26\u001b[0m\n\u001b[1;32m     22\u001b[0m time\u001b[39m.\u001b[39msleep(\u001b[39m2\u001b[39m)  \u001b[39m#  창이 모두 열릴 때 까지 2초 기다립니다.\u001b[39;00m\n\u001b[1;32m     24\u001b[0m \u001b[39m#Step 3. 검색창의 이름을 찾아서 검색어를 입력하고 검색을 실행합니다\u001b[39;00m\n\u001b[1;32m     25\u001b[0m \u001b[39m# driver.find_element(By.ID, 'inp_search_mo').click()\u001b[39;00m\n\u001b[0;32m---> 26\u001b[0m element\u001b[39m=\u001b[39mdriver\u001b[39m.\u001b[39;49mfind_element(By\u001b[39m.\u001b[39;49mID, \u001b[39m'\u001b[39;49m\u001b[39minp_search\u001b[39;49m\u001b[39m'\u001b[39;49m)\u001b[39m.\u001b[39;49mclick()\n\u001b[1;32m     28\u001b[0m driver\u001b[39m.\u001b[39mfind_element(By\u001b[39m.\u001b[39mXPATH, \u001b[39m'\u001b[39m\u001b[39m//*[id=\u001b[39m\u001b[39m\"\u001b[39m\u001b[39minp_search\u001b[39m\u001b[39m\"\u001b[39m\u001b[39m]\u001b[39m\u001b[39m'\u001b[39m)\u001b[39m.\u001b[39msend_keys(query_txt)\n",
      "File \u001b[0;32m~/anaconda3/envs/snsbig/lib/python3.8/site-packages/selenium/webdriver/remote/webelement.py:94\u001b[0m, in \u001b[0;36mWebElement.click\u001b[0;34m(self)\u001b[0m\n\u001b[1;32m     92\u001b[0m \u001b[39mdef\u001b[39;00m \u001b[39mclick\u001b[39m(\u001b[39mself\u001b[39m) \u001b[39m-\u001b[39m\u001b[39m>\u001b[39m \u001b[39mNone\u001b[39;00m:\n\u001b[1;32m     93\u001b[0m \u001b[39m    \u001b[39m\u001b[39m\"\"\"Clicks the element.\"\"\"\u001b[39;00m\n\u001b[0;32m---> 94\u001b[0m     \u001b[39mself\u001b[39;49m\u001b[39m.\u001b[39;49m_execute(Command\u001b[39m.\u001b[39;49mCLICK_ELEMENT)\n",
      "File \u001b[0;32m~/anaconda3/envs/snsbig/lib/python3.8/site-packages/selenium/webdriver/remote/webelement.py:403\u001b[0m, in \u001b[0;36mWebElement._execute\u001b[0;34m(self, command, params)\u001b[0m\n\u001b[1;32m    401\u001b[0m     params \u001b[39m=\u001b[39m {}\n\u001b[1;32m    402\u001b[0m params[\u001b[39m\"\u001b[39m\u001b[39mid\u001b[39m\u001b[39m\"\u001b[39m] \u001b[39m=\u001b[39m \u001b[39mself\u001b[39m\u001b[39m.\u001b[39m_id\n\u001b[0;32m--> 403\u001b[0m \u001b[39mreturn\u001b[39;00m \u001b[39mself\u001b[39;49m\u001b[39m.\u001b[39;49m_parent\u001b[39m.\u001b[39;49mexecute(command, params)\n",
      "File \u001b[0;32m~/anaconda3/envs/snsbig/lib/python3.8/site-packages/selenium/webdriver/remote/webdriver.py:440\u001b[0m, in \u001b[0;36mWebDriver.execute\u001b[0;34m(self, driver_command, params)\u001b[0m\n\u001b[1;32m    438\u001b[0m response \u001b[39m=\u001b[39m \u001b[39mself\u001b[39m\u001b[39m.\u001b[39mcommand_executor\u001b[39m.\u001b[39mexecute(driver_command, params)\n\u001b[1;32m    439\u001b[0m \u001b[39mif\u001b[39;00m response:\n\u001b[0;32m--> 440\u001b[0m     \u001b[39mself\u001b[39;49m\u001b[39m.\u001b[39;49merror_handler\u001b[39m.\u001b[39;49mcheck_response(response)\n\u001b[1;32m    441\u001b[0m     response[\u001b[39m\"\u001b[39m\u001b[39mvalue\u001b[39m\u001b[39m\"\u001b[39m] \u001b[39m=\u001b[39m \u001b[39mself\u001b[39m\u001b[39m.\u001b[39m_unwrap_value(response\u001b[39m.\u001b[39mget(\u001b[39m\"\u001b[39m\u001b[39mvalue\u001b[39m\u001b[39m\"\u001b[39m, \u001b[39mNone\u001b[39;00m))\n\u001b[1;32m    442\u001b[0m     \u001b[39mreturn\u001b[39;00m response\n",
      "File \u001b[0;32m~/anaconda3/envs/snsbig/lib/python3.8/site-packages/selenium/webdriver/remote/errorhandler.py:245\u001b[0m, in \u001b[0;36mErrorHandler.check_response\u001b[0;34m(self, response)\u001b[0m\n\u001b[1;32m    243\u001b[0m         alert_text \u001b[39m=\u001b[39m value[\u001b[39m\"\u001b[39m\u001b[39malert\u001b[39m\u001b[39m\"\u001b[39m]\u001b[39m.\u001b[39mget(\u001b[39m\"\u001b[39m\u001b[39mtext\u001b[39m\u001b[39m\"\u001b[39m)\n\u001b[1;32m    244\u001b[0m     \u001b[39mraise\u001b[39;00m exception_class(message, screen, stacktrace, alert_text)  \u001b[39m# type: ignore[call-arg]  # mypy is not smart enough here\u001b[39;00m\n\u001b[0;32m--> 245\u001b[0m \u001b[39mraise\u001b[39;00m exception_class(message, screen, stacktrace)\n",
      "\u001b[0;31mElementNotInteractableException\u001b[0m: Message: element not interactable\n  (Session info: chrome=113.0.5672.126)\nStacktrace:\n0   chromedriver                        0x0000000100d3b8ac chromedriver + 4257964\n1   chromedriver                        0x0000000100d33f40 chromedriver + 4226880\n2   chromedriver                        0x0000000100970854 chromedriver + 280660\n3   chromedriver                        0x00000001009ad0d8 chromedriver + 528600\n4   chromedriver                        0x00000001009a1984 chromedriver + 481668\n5   chromedriver                        0x00000001009a11cc chromedriver + 479692\n6   chromedriver                        0x00000001009e27e4 chromedriver + 747492\n7   chromedriver                        0x000000010099f98c chromedriver + 473484\n8   chromedriver                        0x00000001009a098c chromedriver + 477580\n9   chromedriver                        0x0000000100cfa900 chromedriver + 3991808\n10  chromedriver                        0x0000000100cfe354 chromedriver + 4006740\n11  chromedriver                        0x0000000100cfe940 chromedriver + 4008256\n12  chromedriver                        0x0000000100d0433c chromedriver + 4031292\n13  chromedriver                        0x0000000100cfef34 chromedriver + 4009780\n14  chromedriver                        0x0000000100cd7490 chromedriver + 3847312\n15  chromedriver                        0x0000000100d1c9f4 chromedriver + 4131316\n16  chromedriver                        0x0000000100d1cb4c chromedriver + 4131660\n17  chromedriver                        0x0000000100d2d230 chromedriver + 4198960\n18  libsystem_pthread.dylib             0x000000018e4d3fa8 _pthread_start + 148\n19  libsystem_pthread.dylib             0x000000018e4ceda0 thread_start + 8\n"
     ]
    }
   ],
   "source": [
    "#Step 1. 필요한 모듈과 라이브러리를 로딩하고 검색어를 입력 받습니다\n",
    "from bs4 import BeautifulSoup     \n",
    "from selenium import webdriver\n",
    "from selenium.webdriver.common.keys import Keys\n",
    "from selenium.webdriver.common.by import By\n",
    "import time\n",
    "import sys\n",
    "\n",
    "query_txt = input('크롤링할 키워드는 무엇입니까?: ')\n",
    "# f_name = input('검색 결과를 저장할 파일경로와 이름을 지정하세요(예:c:\\\\data\\\\test.txt): ')\n",
    "f_name='./data/test.txt'\n",
    "\n",
    "#Step 2. 크롬 드라이버를 사용해서 웹 브라우저를 실행합니다.\n",
    "path = '/opt/homebrew/Caskroom/chromedriver/112.0.5615.49/chromedriver'\n",
    "driver = webdriver.Chrome(path)\n",
    "driver.get(\"https://korean.visitkorea.or.kr/main/main.do\")\n",
    "\n",
    "try:\n",
    "    driver.find_element(By.XPATH, \"/html/body/div[6],button\").click()\n",
    "except:\n",
    "    print('no window')\n",
    "time.sleep(2)  #  창이 모두 열릴 때 까지 2초 기다립니다.\n",
    "\n",
    "#Step 3. 검색창의 이름을 찾아서 검색어를 입력하고 검색을 실행합니다\n",
    "driver.find_element(By.ID, 'inp_search_mo').click()\n",
    "element=driver.find_element(By.ID, 'inp_search').click()\n",
    "\n",
    "driver.find_element(By.XPATH, '//*[id=\"inp_search\"]').send_keys(query_txt)"
   ]
  },
  {
   "cell_type": "code",
   "execution_count": 3,
   "metadata": {},
   "outputs": [
    {
     "name": "stdout",
     "output_type": "stream",
     "text": [
      "한국관광공사 추천 5월 걷기여행길, 싱그러운 봄 날씨와 어울리는 길  경기도  #대부해솔길#안산가볼만한곳#트레킹코스#선비순례길#선성현길#안동가볼만한곳#힐링#휴양여행#힐링여행#걷기여행#팔공산올레길#부인사도보길#대구가볼만한곳#진안고원길#감동벼룻길#진안가볼만한곳#버그내순례길#당진가볼만한곳#오리숲길#세조길#보은가볼만한곳#가야산소리길#해인사소리길#합천가볼만한곳#한국관광7선#싱그러운봄#가정의달#봄여행#걷기여행길 더보기  즐겨찾기 공유하기\n",
      "\n",
      "\n",
      "마음을 나누는 엄마 딸 여행, 서울 남산 주변과 한강 물길 봄나들이  서울  #서울가볼만한곳#아이와함께#친구와함께#연인과함께#봄에가볼만한곳#충무로역#오재미동#영상예술#예술통#거리미술관#필동#남산골한옥마을#전통가옥#국악당#체험학습#전통문화체험#서울천년타임캡슐광장#남산케이블카#N서울타워#남산#한양도성성곽길#안중근의사기념관#남산도서관#서울여행코스#양화한강공원#한강#피크닉#나들이#봄나들이#선유도공원#카페나루#서울맛집#달강#서래섬#세빛섬#튜브스터#밤도깨비야시장#낭만달빛마켓#반포한강공원야시장#반포한강공원#서울밤도깨비야시장#스트리트뮤지엄#힐링#한강자전거 더보기  즐겨찾기 공유하기\n",
      "\n",
      "\n",
      "봄바람 따라 살랑살랑 통영 1박2일 여행코스  경상남도 통영시 #통영#통영1박2일코스#통영가볼만한곳#장사도해상공원#박경리기념관#미래사#서피랑#봄여행#봄여행지#봄여행지추천#취향따라_떠나는_특별한_보통날#봄여행주간 더보기  즐겨찾기 공유하기\n",
      "\n",
      "\n",
      "[강원] 강원도 '다시 봄!' - 봄 여행에 어울리는 강원도 숙소 모음  강원도  #한국관광품질인증#여행기사#추천숙박#파로호한옥펜션#강릉오죽한옥마을#호텔탑스빌#MGM호텔#피카소호텔#화천#강릉#동해#바다#강원숙소#인증숙소#우수숙소#봄!_가족과_함께#강원도여행 더보기  즐겨찾기 공유하기\n",
      "\n",
      "\n",
      "세계자연유산(UNESCO)의 봄을 느끼며, 제주도 동부 여행  제주도  #장애인추천코스#제주가볼만한곳#제주당일코스#제주민속촌#제주올레길#제주해녀박물관#김녕어울림센터#월정리해변#제주돌문화공원#절물자연휴양림#메이즈랜드#두맹이골목#제주1박2일코스#제주2박3일코스#무장애여행지#장애인추천여행지#풍경여행#성산포JC공원#유채꽃#오디오가이드#청굴물#제주돌박물관#삼울길#제주맛집#봄!_가족과_함께#인증샷투어 더보기  즐겨찾기 공유하기\n",
      "\n",
      "\n",
      "봄의 유혹, 유채와 튤립을 가슴에 담다 '경남 남해 봄꽃 여행'  경상남도 남해군 #봄꽃여행#봄꽃열전#봄꽃축제 더보기  즐겨찾기 공유하기\n",
      "\n",
      "\n",
      "걷고, 먹고, 즐기고··· 포항으로 떠나는 봄 별미 여행  경상북도 포항시 #트레킹#내연산계곡#보경사#경상북도수목원#연산폭포#관음폭포#기청산식물원#사방기념공원#죽도시장#맛집#물회#포항운하#영일대해수욕장#구룡포#근대문화역사거리#추천가볼만한곳#포항가볼만한곳#포항당일코스#포항1박2일코스#포항맛집#미식여행#모리국수#2015년5월추천가볼만한곳#5월추천가볼만한곳#봄_제철음식 더보기  즐겨찾기 공유하기\n",
      "\n",
      "\n",
      "[KTX매거진] 남도 풍류길 따라 봄을 노래하다, 남도바닷길 여행  전라남도 #대한민국 테마여행10선#남도바닷길#여수#여수향일암#순천#순천만정원#광양#광양매화마을#보성#보성녹차밭#KTX매거진#봄!_가족과_함께 더보기  즐겨찾기 공유하기\n",
      "\n",
      "\n",
      "거제&통영 여행 꿀팁. 깨알 팁 다수 포함! 봄 산책하기 좋은 1박2일 거제&통영 여행 코스  경상남도 거제시 #거제맛집#거제여행#거제가볼만한곳#통영여행#통영가볼만한곳#통영맛집#통영루지#봄산책#봄여행#걷기좋은길 더보기  즐겨찾기 공유하기\n",
      "\n",
      "\n",
      "이국적인 풍경과 아름다운 정원으로 떠나는 봄 여행, 남해 독일마을과 원예예술촌  경상남도 남해군 #이색적인여행#2019년4월추천가볼만한곳#4월추천가볼만한곳#추천가볼만한곳#공공누리#4월가볼만한곳#월요일엔 저스트 고! 더보기  즐겨찾기 공유하기\n",
      "\n",
      "\n"
     ]
    }
   ],
   "source": [
    "# 학습목표 1: 텍스트를 추출하여 화면에 출력하기\n",
    "# Step 4. 현재 페이지에 있는 내용을 화면에 출력하기\n",
    "\n",
    "time.sleep(1)\n",
    "\n",
    "full_html = driver.page_source\n",
    "soup = BeautifulSoup(full_html, 'html.parser')\n",
    "content_list = soup.find('ul','list_thumType type1')\n",
    "\n",
    "if content_list is not None:\n",
    "    for i in content_list:\n",
    "        print(i.text.strip())\n",
    "        print(\"\\n\")\n",
    "else:\n",
    "    print(\"content list not found\")"
   ]
  },
  {
   "cell_type": "code",
   "execution_count": null,
   "metadata": {},
   "outputs": [],
   "source": [
    " \n",
    "# 학습목표 2: 텍스트를 추출하여 txt 형식으로 저장하기\n",
    "# Step 5. 현재 페이지에 있는 내용을 txt 형식으로 파일에 저장하기\n",
    "orig_stdout = sys.stdout\n",
    "f = open(f_name , 'a' , encoding='UTF-8')\n",
    "sys.stdout = f\n",
    "time.sleep(1)\n",
    "\n",
    "html = driver.page_source\n",
    "soup = BeautifulSoup(html, 'html.parser')\n",
    "content_list = soup.find('ul',class_='list_thumType type1')\n",
    "\n",
    "if content_list is not None:\n",
    "    for i in content_list:\n",
    "        print(i.text.strip())\n",
    "        print(\"\\n\")\n",
    "else:\n",
    "    print(\"content list not found\")\n",
    "    \n",
    "sys.stdout = orig_stdout\n",
    "f.close()\n",
    "\n",
    "print(\" 요청하신 데이터 수집 작업이 정상적으로 완료되었습니다\")"
   ]
  },
  {
   "cell_type": "code",
   "execution_count": null,
   "metadata": {},
   "outputs": [],
   "source": []
  }
 ],
 "metadata": {
  "kernelspec": {
   "display_name": "Python 3",
   "language": "python",
   "name": "python3"
  },
  "language_info": {
   "codemirror_mode": {
    "name": "ipython",
    "version": 3
   },
   "file_extension": ".py",
   "mimetype": "text/x-python",
   "name": "python",
   "nbconvert_exporter": "python",
   "pygments_lexer": "ipython3",
   "version": "3.8.16"
  }
 },
 "nbformat": 4,
 "nbformat_minor": 2
}
